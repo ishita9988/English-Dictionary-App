{
 "cells": [
  {
   "cell_type": "code",
   "execution_count": null,
   "id": "92a1d352",
   "metadata": {},
   "outputs": [
    {
     "name": "stdout",
     "output_type": "stream",
     "text": [
      "Enter a number among the following choices:\n",
      "           1: add a new word\n",
      "           2:Find the meaning\n",
      "           3:Update a word\n",
      "           4:Exit\n",
      "1\n",
      "enter a wordobnoxious\n",
      "enter the meaning of the wordbad\n",
      "Enter a number among the following choices:\n",
      "           1: add a new word\n",
      "           2:Find the meaning\n",
      "           3:Update a word\n",
      "           4:Exit\n",
      "2\n",
      "Enter a wordobnoxious\n",
      "bad\n",
      "Enter a number among the following choices:\n",
      "           1: add a new word\n",
      "           2:Find the meaning\n",
      "           3:Update a word\n",
      "           4:Exit\n",
      "3\n",
      "Enter a wordobnoxious \n",
      "enter the meaningmeaan\n"
     ]
    }
   ],
   "source": [
    "import json\n",
    "dict={}\n",
    "def main_menu():\n",
    "    while True:\n",
    "        n=int(input('''Enter a number among the following choices:\n",
    "           1: add a new word\n",
    "           2:Find the meaning\n",
    "           3:Update a word\n",
    "           4:Exit\\n'''))\n",
    "        if n==1:\n",
    "            add_new_word()\n",
    "        elif n==2:\n",
    "            find_word()\n",
    "        elif n==3:\n",
    "            update_word()\n",
    "        elif n==4:\n",
    "            exit()\n",
    "            break\n",
    "        else:\n",
    "            print(\"Invalid input.Please enter a correct number:\")\n",
    "def add_new_word():\n",
    "    word=input(\"enter a word\")\n",
    "    word=word.lower()\n",
    "    meaning=input(\"enter the meaning of the word\")\n",
    "    meaning=meaning.lower()\n",
    "    dict[word]=meaning\n",
    "    #dict={word:meaning}\n",
    "    f=open(\"words.txt\",\"w\")\n",
    "    json.dump(dict,f)\n",
    "    f.close()\n",
    "def find_word():\n",
    "    str=input(\"Enter a word\")\n",
    "    str=str.lower()\n",
    "    f=open(\"words.txt\",\"r\")\n",
    "    w=json.load(f)\n",
    "    if str in w.keys():\n",
    "        print(w[str])\n",
    "    else:\n",
    "        print(\"sorry! The word you are looking for is not in our dictionary\")\n",
    "    f.close()\n",
    "def update_word():\n",
    "    str=input(\"Enter a word\")\n",
    "    str=str.lower()\n",
    "    meaning=input(\"enter the meaning\")\n",
    "    meaning=meaning.lower()\n",
    "    f=open(\"words.txt\",\"r\")\n",
    "    w=json.load(f)\n",
    "    f.close()\n",
    "    f=open(\"words.txt\",\"w\")\n",
    "    if str in w.keys():\n",
    "        w[str]=meaning\n",
    "    json.dump(w,f)\n",
    "    f.close()\n",
    "def exit():\n",
    "    print(\"you may exit\")\n",
    "main_menu()"
   ]
  },
  {
   "cell_type": "code",
   "execution_count": null,
   "id": "2ff26749",
   "metadata": {},
   "outputs": [],
   "source": []
  },
  {
   "cell_type": "code",
   "execution_count": null,
   "id": "5ce7591d",
   "metadata": {},
   "outputs": [],
   "source": []
  }
 ],
 "metadata": {
  "kernelspec": {
   "display_name": "Python 3 (ipykernel)",
   "language": "python",
   "name": "python3"
  },
  "language_info": {
   "codemirror_mode": {
    "name": "ipython",
    "version": 3
   },
   "file_extension": ".py",
   "mimetype": "text/x-python",
   "name": "python",
   "nbconvert_exporter": "python",
   "pygments_lexer": "ipython3",
   "version": "3.9.12"
  }
 },
 "nbformat": 4,
 "nbformat_minor": 5
}
